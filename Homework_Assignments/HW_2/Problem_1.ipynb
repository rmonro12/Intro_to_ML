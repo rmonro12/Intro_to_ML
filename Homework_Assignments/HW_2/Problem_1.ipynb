{
  "nbformat": 4,
  "nbformat_minor": 0,
  "metadata": {
    "colab": {
      "provenance": [],
      "authorship_tag": "ABX9TyNcpMcrnp8OyyyIQg1wem64",
      "include_colab_link": true
    },
    "kernelspec": {
      "name": "python3",
      "display_name": "Python 3"
    },
    "language_info": {
      "name": "python"
    }
  },
  "cells": [
    {
      "cell_type": "markdown",
      "metadata": {
        "id": "view-in-github",
        "colab_type": "text"
      },
      "source": [
        "<a href=\"https://colab.research.google.com/github/rmonro12/Intro_to_ML/blob/main/Homework_Assignments/HW_2/Problem_1.ipynb\" target=\"_parent\"><img src=\"https://colab.research.google.com/assets/colab-badge.svg\" alt=\"Open In Colab\"/></a>"
      ]
    },
    {
      "cell_type": "markdown",
      "source": [
        "Ryan Monroe (801219572) - 09/29/2025 <br>\n",
        "ECGR 4105 - Homework 2, Problem 1"
      ],
      "metadata": {
        "id": "76bFYlAr597p"
      }
    },
    {
      "cell_type": "code",
      "source": [
        "#Import the necessary libraries\n",
        "import numpy as np\n",
        "import pandas as pd\n",
        "import matplotlib.pyplot as plt"
      ],
      "metadata": {
        "id": "Rcjn0CK2MDR3"
      },
      "execution_count": null,
      "outputs": []
    },
    {
      "cell_type": "code",
      "source": [
        "#Import .csv dataset from class repository\n",
        "url = 'https://raw.githubusercontent.com/HamedTabkhi/Intro-to-ML/refs/heads/main/Dataset/Housing.csv'\n",
        "df = pd.read_csv(url)\n",
        "\n",
        "#Confirm successful import by printing\n",
        "#print(df.head())"
      ],
      "metadata": {
        "id": "UD4UE25f3YzE",
        "collapsed": true
      },
      "execution_count": null,
      "outputs": []
    },
    {
      "cell_type": "code",
      "source": [
        "#Map non-numerical data to numbers\n",
        "varlist =  ['mainroad', 'guestroom', 'basement', 'hotwaterheating', 'airconditioning', 'prefarea']\n",
        "\n",
        "#Define the values to be mapped\n",
        "def binary_map(x):\n",
        "    return x.map({'yes': 1, 'no': 0})\n",
        "#Replace strings with numerical equivalents\n",
        "df[varlist] = df[varlist].apply(binary_map)"
      ],
      "metadata": {
        "id": "3byAxfOA-c-B"
      },
      "execution_count": null,
      "outputs": []
    },
    {
      "cell_type": "code",
      "source": [
        "#Split data into training and testing sets\n",
        "from sklearn.model_selection import train_test_split\n",
        "np.random.seed(0)\n",
        "df_train, df_test = train_test_split(df, train_size = 0.80, test_size = 0.20, random_state = 100)\n",
        "\n",
        "m = df_train.shape[0] # Retrieve the number of training examples"
      ],
      "metadata": {
        "id": "c6aSi2FQQZEY"
      },
      "execution_count": null,
      "outputs": []
    },
    {
      "cell_type": "code",
      "source": [
        "#Extrapolate data from .csv file\n",
        "price = df_train.values[:, 0]\n",
        "area = df_train.values[:, 1].reshape(m,1)\n",
        "bedrooms = df_train.values[:, 2].reshape(m,1)\n",
        "bathrooms = df_train.values[:, 3].reshape(m,1)\n",
        "stories = df_train.values[:, 4].reshape(m,1)\n",
        "mainroad = df_train.values[:, 5].reshape(m,1)\n",
        "guestroom = df_train.values[:, 6].reshape(m,1)\n",
        "basement = df_train.values[:, 7].reshape(m,1)\n",
        "hotwaterheating = df_train.values[:, 8].reshape(m,1)\n",
        "airconditioning = df_train.values[:, 9].reshape(m,1)\n",
        "parking = df_train.values[:, 10].reshape(m,1)\n",
        "prefarea = df_train.values[:, 11].reshape(m,1)\n",
        "\n",
        "#print(price[:5]) #confirm correct data has been assigned"
      ],
      "metadata": {
        "id": "aKXx4iZB3xjQ"
      },
      "execution_count": null,
      "outputs": []
    },
    {
      "cell_type": "code",
      "source": [
        "#Create feature matrix with desired input\n",
        "X0 = np.ones((m, 1)) #Create column vector of all 1's\n",
        "\n",
        "#Stack each vector to form input matrix\n",
        "X = np.hstack((X0, area, bedrooms, bathrooms, stories, parking,\n",
        "               mainroad, guestroom, basement, hotwaterheating,\n",
        "               airconditioning, prefarea))\n",
        "\n",
        "print(X[:3])"
      ],
      "metadata": {
        "colab": {
          "base_uri": "https://localhost:8080/"
        },
        "id": "orbxuWsXBO09",
        "outputId": "3da487d1-2b42-414b-871b-6aa899cc657e"
      },
      "execution_count": null,
      "outputs": [
        {
          "output_type": "stream",
          "name": "stdout",
          "text": [
            "[[1.0 8050 3 1 1 1 1 1 1 0 1 0]\n",
            " [1.0 6360 3 2 4 0 1 0 0 0 1 1]\n",
            " [1.0 6750 2 1 1 2 1 1 1 0 0 1]]\n"
          ]
        }
      ]
    },
    {
      "cell_type": "code",
      "source": [
        "#Set parameters for training\n",
        "n = X.shape[1] #number of features\n",
        "theta = np.zeros(n) #initialize vector of theta values\n",
        "iterations = 15000 #set number of loops\n",
        "alpha = 0.00000000001 #learning ratio 0.1 - 0.01\n",
        "\n",
        "#print(theta)"
      ],
      "metadata": {
        "id": "-lkiWqKVwqqx"
      },
      "execution_count": null,
      "outputs": []
    },
    {
      "cell_type": "code",
      "metadata": {
        "id": "99d51047"
      },
      "source": [
        "#Define the cost function discussed in class\n",
        "def cost_function(X, Y, theta):\n",
        "  \"\"\"\n",
        "  Calculates the cost function for linear regression\n",
        "  Input:\n",
        "    X: Input feature matrix including X0\n",
        "    Y: Epected output variable vector\n",
        "    theta: The weights/fitting parameters vector\n",
        "  Output:\n",
        "    Calculated cost 'J'\n",
        "  \"\"\"\n",
        "  h_x = X.dot(theta) #X dot product theta gives matrix of predicted output\n",
        "  J = (1/(2*m)) * np.sum(np.square(h_x - Y)) #formula for J (given)\n",
        "\n",
        "  return J"
      ],
      "execution_count": null,
      "outputs": []
    },
    {
      "cell_type": "code",
      "source": [
        "#Define gradient descent function discussed in class\n",
        "def gradient_descent(X, Y, theta, alpha, iterations):\n",
        "    \"\"\"\n",
        "    Calculates the gradient descent to find ideal theta values\n",
        "    Input:\n",
        "      X: Input feature matrix\n",
        "      Y: Expected output vector\n",
        "      theta: array of weights/fitting parameters\n",
        "      alpha: learning rate (scalar value)\n",
        "      iterations: number of loops to run (scalar value)\n",
        "    Output:\n",
        "      theta: updated value for each weight/fitting parameter\n",
        "      cost_history: tracks the cost over time for each iteration\n",
        "      \"\"\"\n",
        "    cost_history = np.zeros(iterations) #initialize vector with zeros\n",
        "\n",
        "    for i in range(iterations): #loop for each iteration\n",
        "        h_x = X.dot(theta) #calculate predicted output\n",
        "        gradient = X.transpose().dot(np.subtract(h_x, Y)) / m #gradient of J\n",
        "        theta = theta - alpha * gradient #update theta values\n",
        "        cost_history[i] = cost_function(X, Y, theta)\n",
        "\n",
        "    return theta, cost_history"
      ],
      "metadata": {
        "id": "SU2rLT01vEKW"
      },
      "execution_count": null,
      "outputs": []
    },
    {
      "cell_type": "code",
      "source": [
        "#Display results\n",
        "theta, cost_history = gradient_descent(X, price, theta, alpha, iterations)\n",
        "print('Final values of theta =', theta[:])\n",
        "print('cost_history =', cost_history[-1])\n",
        "\n",
        "# Plotting the cost history\n",
        "plt.figure(figsize=(10, 6))\n",
        "plt.plot(range(iterations), cost_history, 'r')\n",
        "plt.xlabel('Number of Iterations')\n",
        "plt.ylabel('Cost J')\n",
        "plt.title('Cost History over Iterations')\n",
        "plt.show()\n"
      ],
      "metadata": {
        "colab": {
          "base_uri": "https://localhost:8080/",
          "height": 639
        },
        "collapsed": true,
        "id": "ZVyGwOQM782t",
        "outputId": "a53e8c19-8105-4dae-e673-04a7c6472308"
      },
      "execution_count": null,
      "outputs": [
        {
          "output_type": "stream",
          "name": "stdout",
          "text": [
            "Final values of theta = [0.1954310564104808 853.7905074062754 0.6256885461313663\n",
            " 0.3073723876480905 0.4439125778176946 0.16289669960499384\n",
            " 0.1745056480246646 0.04873917064711809 0.08448201064859044\n",
            " 0.0179661312346816 0.09413923742396303 0.060184611953993876]\n",
            "cost_history = 1691134317950.325\n"
          ]
        },
        {
          "output_type": "display_data",
          "data": {
            "text/plain": [
              "<Figure size 1000x600 with 1 Axes>"
            ],
            "image/png": "[encoded data removed]"
          },
          "metadata": {}
        }
      ]
    },
    {
      "cell_type": "code",
      "source": [
        "#Test model\n",
        "m_t = df_test.shape[0] # Retrieve the number of testing examples\n",
        "area_t = df_test.values[:, 1].reshape(m_t,1)\n",
        "bedrooms_t = df_test.values[:, 2].reshape(m_t,1)\n",
        "bathrooms_t = df_test.values[:, 3].reshape(m_t,1)\n",
        "stories_t = df_test.values[:, 4].reshape(m_t,1)\n",
        "parking_t = df_test.values[:, 10].reshape(m_t,1)\n",
        "X0_t = np.ones((m_t, 1))\n",
        "X_t = np.hstack((X0_t, area_t, bedrooms_t, bathrooms_t, stories_t, parking_t))\n",
        "Y = X.dot(theta)"
      ],
      "metadata": {
        "id": "JASrCTD7AiCB"
      },
      "execution_count": null,
      "outputs": []
    }
  ]
}