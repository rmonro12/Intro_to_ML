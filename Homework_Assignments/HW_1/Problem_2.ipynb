{
  "nbformat": 4,
  "nbformat_minor": 0,
  "metadata": {
    "colab": {
      "provenance": [],
      "authorship_tag": "ABX9TyPgVSRd/8bRmshUgJk/1VmQ",
      "include_colab_link": true
    },
    "kernelspec": {
      "name": "python3",
      "display_name": "Python 3"
    },
    "language_info": {
      "name": "python"
    }
  },
  "cells": [
    {
      "cell_type": "markdown",
      "metadata": {
        "id": "view-in-github",
        "colab_type": "text"
      },
      "source": [
        "<a href=\"https://colab.research.google.com/github/rmonro12/Intro_to_ML/blob/main/Homework_Assignments/HW_1/Problem_2.ipynb\" target=\"_parent\"><img src=\"https://colab.research.google.com/assets/colab-badge.svg\" alt=\"Open In Colab\"/></a>"
      ]
    },
    {
      "cell_type": "markdown",
      "source": [
        "Ryan Monroe (801219572) - 09/12/2025 <br>\n",
        "ECGR 4105 - Homework 1, Problem 2"
      ],
      "metadata": {
        "id": "76bFYlAr597p"
      }
    },
    {
      "cell_type": "code",
      "source": [
        "#Import the necessary libraries\n",
        "import numpy as np\n",
        "import pandas as pd\n",
        "import matplotlib.pyplot as plt"
      ],
      "metadata": {
        "id": "Rcjn0CK2MDR3"
      },
      "execution_count": 188,
      "outputs": []
    },
    {
      "cell_type": "code",
      "source": [
        "#Import .csv dataset from class repository\n",
        "url = 'https://raw.githubusercontent.com/HamedTabkhi/Intro-to-ML/refs/heads/main/Dataset/D3.csv'\n",
        "df = pd.read_csv(url)\n",
        "\n",
        "#Confirm successful import by printing\n",
        "print(df.head())"
      ],
      "metadata": {
        "colab": {
          "base_uri": "https://localhost:8080/"
        },
        "id": "UD4UE25f3YzE",
        "outputId": "44983c9d-7967-4fee-c7f3-32eea9221cf7",
        "collapsed": true
      },
      "execution_count": 189,
      "outputs": [
        {
          "output_type": "stream",
          "name": "stdout",
          "text": [
            "         X1        X2        X3         Y\n",
            "0  0.000000  3.440000  0.440000  4.387545\n",
            "1  0.040404  0.134949  0.888485  2.679650\n",
            "2  0.080808  0.829899  1.336970  2.968490\n",
            "3  0.121212  1.524848  1.785455  3.254065\n",
            "4  0.161616  2.219798  2.233939  3.536375\n"
          ]
        }
      ]
    },
    {
      "cell_type": "code",
      "source": [
        "#Extrapolate data from .csv file\n",
        "X1 = df.values[:, 0]\n",
        "X2 = df.values[:, 1]\n",
        "X3 = df.values[:, 2]\n",
        "Y = df.values[:, 3]\n",
        "m = len(Y) #number of training examples\n",
        "n = len(X1)"
      ],
      "metadata": {
        "id": "aKXx4iZB3xjQ"
      },
      "execution_count": 190,
      "outputs": []
    },
    {
      "cell_type": "code",
      "source": [
        "#Reorganize data into matrix capable of multiplication\n",
        "#Create column vector of all 1's\n",
        "X0 = np.ones((n, 1))\n",
        "\n",
        "#Start by transposing input vectors\n",
        "X1 = X1.reshape(n, 1)\n",
        "X2 = X2.reshape(n, 1)\n",
        "X3 = X3.reshape(n, 1)\n",
        "\n",
        "#Stack each vector to form input matrix\n",
        "X = np.hstack((X0, X1, X2, X3))\n",
        "\n",
        "#Preview the first 3 rows of the new matrix\n",
        "print(X[:3])"
      ],
      "metadata": {
        "id": "6OGLliu5icXu",
        "colab": {
          "base_uri": "https://localhost:8080/"
        },
        "collapsed": true,
        "outputId": "b70d434b-94b2-4f65-9cb6-9232e3da94a0"
      },
      "execution_count": 191,
      "outputs": [
        {
          "output_type": "stream",
          "name": "stdout",
          "text": [
            "[[1.         0.         3.44       0.44      ]\n",
            " [1.         0.04040404 0.1349495  0.88848485]\n",
            " [1.         0.08080808 0.82989899 1.3369697 ]]\n"
          ]
        }
      ]
    },
    {
      "cell_type": "code",
      "source": [
        "#Set parameters for training\n",
        "theta = [0., 0., 0., 0.] #4 theta values, 0 - 3\n",
        "iterations = 300 #set number of loops\n",
        "alpha = 0.1 #learning ratio 0.1 - 0.01"
      ],
      "metadata": {
        "id": "-lkiWqKVwqqx"
      },
      "execution_count": 192,
      "outputs": []
    },
    {
      "cell_type": "code",
      "metadata": {
        "id": "99d51047"
      },
      "source": [
        "#Define the cost fucntion discussed in class\n",
        "def cost_function(X, Y, theta):\n",
        "  \"\"\"\n",
        "  Calculates the cost function for linear regression\n",
        "  Input:\n",
        "    X: Input feature matrix including X0\n",
        "    Y: Epected output variable vector\n",
        "    theta: The weights/fitting parameters vector\n",
        "  Output:\n",
        "    Calculated cost 'J'\n",
        "  \"\"\"\n",
        "  h_x = X.dot(theta) #X dot product theta gives matrix of predicted output\n",
        "  J = (1/(2*m)) * np.sum(np.square(h_x - Y)) #formula for J (given)\n",
        "\n",
        "  return J"
      ],
      "execution_count": 193,
      "outputs": []
    },
    {
      "cell_type": "code",
      "source": [
        "#Define gradient descent function discussed in class\n",
        "def gradient_descent(X, Y, theta, alpha, iterations):\n",
        "    \"\"\"\n",
        "    Calculates the gradient descent to find ideal theta values\n",
        "    Input:\n",
        "      X: Input feature matrix\n",
        "      Y: Expected output vector\n",
        "      theta: array of weights/fitting parameters\n",
        "      alpha: learning rate (scalar value)\n",
        "      iterations: number of loops to run (scalar value)\n",
        "    Output:\n",
        "      theta: updated value for each weight/fitting parameter\n",
        "      cost_history: tracks the cost over time for each iteration\n",
        "      \"\"\"\n",
        "    cost_history = np.zeros(iterations) #initialize vector with zeros\n",
        "\n",
        "    for i in range(iterations): #loop for each iteration\n",
        "        h_x = X.dot(theta) #calculate predicted output\n",
        "        gradient = X.transpose().dot(np.subtract(h_x, Y)) / m #gradient of J\n",
        "        theta = theta - alpha * gradient #update theta values\n",
        "        cost_history[i] = cost_function(X, Y, theta)\n",
        "\n",
        "    return theta, cost_history"
      ],
      "metadata": {
        "id": "SU2rLT01vEKW"
      },
      "execution_count": 194,
      "outputs": []
    },
    {
      "cell_type": "code",
      "source": [
        "#Display results for parameter X\n",
        "theta, cost_history = gradient_descent(X, Y, theta, alpha, iterations)\n",
        "print('Final values of theta =', np.round(theta[:], 3))\n",
        "print('Final cost =', round(cost_history[-1], 3))\n",
        "\n",
        "#Plot cost over time\n",
        "plt.plot(range(1, iterations + 1), cost_history, color='blue')\n",
        "plt.grid(True)\n",
        "plt.xlabel('Number of iterations')\n",
        "plt.ylabel('Cost (J)')\n",
        "plt.title('Convergence of gradient descent')\n",
        "plt.show()"
      ],
      "metadata": {
        "colab": {
          "base_uri": "https://localhost:8080/",
          "height": 507
        },
        "collapsed": true,
        "id": "ZVyGwOQM782t",
        "outputId": "5435712b-2081-4040-e413-a5007b65a1d8"
      },
      "execution_count": 195,
      "outputs": [
        {
          "output_type": "stream",
          "name": "stdout",
          "text": [
            "Final values of theta = [ 5.057 -1.967  0.575 -0.228]\n",
            "Final cost = 0.742\n"
          ]
        },
        {
          "output_type": "display_data",
          "data": {
            "text/plain": [
              "<Figure size 640x480 with 1 Axes>"
            ],
            "image/png": "[encoded data removed]"
          },
          "metadata": {}
        }
      ]
    },
    {
      "cell_type": "code",
      "source": [
        "#Predict output with unseen inputs\n",
        "\"\"\"\n",
        "New input values are:\n",
        "(1, 1, 1)\n",
        "(2, 0, 4)\n",
        "(3, 2, 1)\n",
        "\n",
        "They must be properly formatted when placed in an array!\n",
        "\"\"\"\n",
        "X_new = [[1., 1., 2., 3.], #New set of unseen inputs with leading ones for X0\n",
        "         [1., 1., 0., 2.],\n",
        "         [1., 1., 4., 1.]]\n",
        "X_new = np.array(X_new) #convert list to array for matrix multiplication\n",
        "Y_new = X_new.dot(theta) #calculate new output using found theta values\n",
        "Y_new = np.round(Y_new, 3) #round to 3 decimal places\n",
        "print(\"Predicted output 1 is: \", Y_new[0])\n",
        "print(\"Predicted output 2 is: \", Y_new[1])\n",
        "print(\"Predicted output 3 is: \", Y_new[2])"
      ],
      "metadata": {
        "colab": {
          "base_uri": "https://localhost:8080/"
        },
        "id": "Ng3CkBrx5EP7",
        "outputId": "20031f00-b276-4a74-bf98-42712a1d0cdb"
      },
      "execution_count": 196,
      "outputs": [
        {
          "output_type": "stream",
          "name": "stdout",
          "text": [
            "Predicted output 1 is:  3.556\n",
            "Predicted output 2 is:  2.634\n",
            "Predicted output 3 is:  5.162\n"
          ]
        }
      ]
    },
    {
      "cell_type": "markdown",
      "source": [
        "Converting the problem to have 3 features instead of 1 was quite simple. Using the np.hstack function it was easy to create a 3 dimensional feature matrix by stacking them all together. From there, both the cost and gradient functions did not have to be adjusted.\n",
        "<br><br>\n",
        "Visualizing the four dimensional data is difficult, however, we can analyze the cost reduction per iteration. The graph shows a steep decline until slowing around 150 iterations and settles around 800. The learning rate and number of iterations can be adjusted to more quickly reach a similar cost but if adjust too far could cause overshoot and instability in the model.\n",
        "<br><br>\n",
        "After some testing I found that 300 iterations at a learning rate of 0.1 produced a final cost of 0.742. At this level increasing the iterations does not take any measurable amount of time more, but the returns are diminishing past this point."
      ],
      "metadata": {
        "id": "Ny_ZWOqlKlHx"
      }
    }
  ]
}