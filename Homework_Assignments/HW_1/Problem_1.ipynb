#Ryan Monroe
#09/12/2025
#ECGR 4105
#Homework 1 Problem 1
