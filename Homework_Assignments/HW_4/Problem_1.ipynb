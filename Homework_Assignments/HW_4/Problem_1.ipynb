{
  "nbformat": 4,
  "nbformat_minor": 0,
  "metadata": {
    "colab": {
      "provenance": [],
      "collapsed_sections": [
        "njyY9mDlJ2gk"
      ],
      "authorship_tag": "ABX9TyOnlxQMelkj2FocynBILBiU",
      "include_colab_link": true
    },
    "kernelspec": {
      "name": "python3",
      "display_name": "Python 3"
    },
    "language_info": {
      "name": "python"
    }
  },
  "cells": [
    {
      "cell_type": "markdown",
      "metadata": {
        "id": "view-in-github",
        "colab_type": "text"
      },
      "source": [
        "<a href=\"https://colab.research.google.com/github/rmonro12/Intro_to_ML/blob/main/Homework_Assignments/HW_4/Problem_1.ipynb\" target=\"_parent\"><img src=\"https://colab.research.google.com/assets/colab-badge.svg\" alt=\"Open In Colab\"/></a>"
      ]
    },
    {
      "cell_type": "markdown",
      "source": [
        "Ryan Monroe (801219572) - 10/28/2025 <br>\n",
        "ECGR 4105 - Homework 4, Problem 1"
      ],
      "metadata": {
        "id": "76bFYlAr597p"
      }
    },
    {
      "cell_type": "markdown",
      "source": [
        "###Import Libraries & Prepare dataset"
      ],
      "metadata": {
        "id": "njyY9mDlJ2gk"
      }
    },
    {
      "cell_type": "code",
      "source": [
        "#Import the necessary libraries\n",
        "import numpy as np\n",
        "import pandas as pd\n",
        "import matplotlib.pyplot as plt\n",
        "from scipy import stats\n",
        "from sklearn.datasets import load_breast_cancer #Import dataset from sklearn\n",
        "from sklearn import svm"
      ],
      "metadata": {
        "id": "Rcjn0CK2MDR3"
      },
      "execution_count": null,
      "outputs": []
    },
    {
      "cell_type": "code",
      "source": [
        "#Import dataset, manipulate into useful dataframe\n",
        "cancer = load_breast_cancer()\n",
        "cancer_data = cancer.data #assign X values\n",
        "cancer_input = pd.DataFrame(cancer_data)\n",
        "cancer_labels = cancer.target #assign Y values\n",
        "labels = np.reshape(cancer_labels,(569,1))\n",
        "final_cancer_data = np.concatenate([cancer_data,labels],axis=1)\n",
        "\n",
        "#Convert to data frame\n",
        "cancer_dataset = pd.DataFrame(final_cancer_data)\n",
        "\n",
        "#Configure feature labels\n",
        "features = cancer.feature_names\n",
        "features_labels = np.append(features,'label')\n",
        "cancer_dataset.columns = features_labels\n",
        "\n",
        "#Convert numeric output to classification\n",
        "cancer_dataset.replace({'label': {0: 'Benign', 1: 'Malignant'}}, inplace=True)\n",
        "\n",
        "#cancer_dataset.tail() #print tail since it shows benign and malignant"
      ],
      "metadata": {
        "id": "UD4UE25f3YzE"
      },
      "execution_count": null,
      "outputs": []
    },
    {
      "cell_type": "code",
      "source": [
        "#Assign input and output variables\n",
        "X = cancer_dataset.iloc[:, 0:30].values #input\n",
        "Y = cancer_dataset.iloc[:, 30].values #output\n",
        "#print(Y[560:]) #ensure data was assigned correctly"
      ],
      "metadata": {
        "id": "rDfgcBJUI_4K"
      },
      "execution_count": null,
      "outputs": []
    },
    {
      "cell_type": "code",
      "source": [
        "#Split data into training and testing sets\n",
        "from sklearn.model_selection import train_test_split\n",
        "X_train, X_test, Y_train, Y_test = train_test_split(X, Y, test_size = 0.80, random_state = 0)"
      ],
      "metadata": {
        "id": "i8XQYU95JyUy"
      },
      "execution_count": null,
      "outputs": []
    },
    {
      "cell_type": "code",
      "source": [
        "#Feature scaling (normalization)\n",
        "from sklearn.preprocessing import StandardScaler\n",
        "sc_X = StandardScaler()\n",
        "X_train = sc_X.fit_transform(X_train)\n",
        "X_test = sc_X.transform(X_test)"
      ],
      "metadata": {
        "id": "HjV1TE9CKMPA"
      },
      "execution_count": null,
      "outputs": []
    },
    {
      "cell_type": "markdown",
      "source": [
        "###Create SVM Classifier & Train"
      ],
      "metadata": {
        "id": "S_Dr_zmMb3Ye"
      }
    },
    {
      "cell_type": "code",
      "source": [
        "#SVM already imported from sklearn\n",
        "classifier = svm.SVC(kernel=\"rbf\") #try linear, poly, rbf\n",
        "\n",
        "#Train model using new classifier\n",
        "classifier.fit(X_train, Y_train)\n",
        "\n",
        "#Predict accuracy\n",
        "from sklearn.model_selection import cross_val_score\n",
        "scores = cross_val_score(classifier, X_train, Y_train, cv=5)\n",
        "print(\"Accuracy: %0.4f (+/- %0.4f)\" % (scores.mean(), scores.std() * 2))"
      ],
      "metadata": {
        "colab": {
          "base_uri": "https://localhost:8080/"
        },
        "collapsed": true,
        "id": "yxPUXIxGKM5q",
        "outputId": "5f344aa5-2d13-4011-d087-2f28f3e4ce6b"
      },
      "execution_count": null,
      "outputs": [
        {
          "output_type": "stream",
          "name": "stdout",
          "text": [
            "Accuracy: 0.9731 (+/- 0.0723)\n"
          ]
        }
      ]
    },
    {
      "cell_type": "code",
      "source": [
        "#Obtain predictions from trained model\n",
        "Y_pred = classifier.predict(X_test) #based on eval dataset\n",
        "print(\"Predicted values: \", Y_pred[:6])\n",
        "print(\"Actual values:    \", Y_test[:6]) #compare predicted values to actual values"
      ],
      "metadata": {
        "colab": {
          "base_uri": "https://localhost:8080/"
        },
        "id": "e4UxDvdYKOtL",
        "outputId": "01f55886-1e41-45ef-9331-197396a33e56"
      },
      "execution_count": null,
      "outputs": [
        {
          "output_type": "stream",
          "name": "stdout",
          "text": [
            "Predicted values:  ['Benign' 'Malignant' 'Malignant' 'Malignant' 'Malignant' 'Malignant']\n",
            "Actual values:     ['Benign' 'Malignant' 'Malignant' 'Malignant' 'Malignant' 'Malignant']\n"
          ]
        }
      ]
    },
    {
      "cell_type": "markdown",
      "source": [
        "###View Results"
      ],
      "metadata": {
        "id": "JXC5uFKzdYYm"
      }
    },
    {
      "cell_type": "code",
      "source": [
        "#Dive deeper into performance characteristics\n",
        "from sklearn import metrics\n",
        "acc = metrics.accuracy_score(Y_test, Y_pred)\n",
        "pre = metrics.precision_score(Y_test, Y_pred, pos_label='Malignant')\n",
        "rec = metrics.recall_score(Y_test, Y_pred, pos_label='Malignant')\n",
        "F1 = metrics.f1_score(Y_test, Y_pred, pos_label='Malignant')\n",
        "\n",
        "print(f\"Accuracy:  {acc:.3f}\")\n",
        "print(f\"Precision:  {pre:.3f}\")\n",
        "print(f\"Recall:  {rec:.3f}\")\n",
        "print(f\"F1 Score:  {F1:.3f}\")"
      ],
      "metadata": {
        "colab": {
          "base_uri": "https://localhost:8080/"
        },
        "collapsed": true,
        "id": "EJHubQ8nL_ed",
        "outputId": "69ea0958-0434-4134-b3f1-8015a5bd73c1"
      },
      "execution_count": null,
      "outputs": [
        {
          "output_type": "stream",
          "name": "stdout",
          "text": [
            "Accuracy:  0.958\n",
            "Precision:  0.950\n",
            "Recall:  0.986\n",
            "F1 Score:  0.968\n"
          ]
        }
      ]
    },
    {
      "cell_type": "code",
      "source": [
        "#Construct confusion matrix to assess model performance\n",
        "from sklearn.metrics import confusion_matrix\n",
        "cm = confusion_matrix(Y_test, Y_pred) #'cm' = confusion matrix\n",
        "\n",
        "#Visualize confusion matrix\n",
        "import seaborn as sns\n",
        "class_names = [0, 1]\n",
        "fig, ax = plt.subplots()\n",
        "tick_marks = np.arange(len(class_names))\n",
        "plt.xticks(tick_marks, class_names)\n",
        "plt.yticks(tick_marks, class_names)\n",
        "\n",
        "#Apply heatmap\n",
        "sns.heatmap(pd.DataFrame(cm), annot = True, cmap = \"Blues\", fmt = 'g')\n",
        "ax.xaxis.set_label_position(\"top\")\n",
        "plt.tight_layout()\n",
        "plt.title(\"Confusion Matrix\", y = 1.1)\n",
        "plt.ylabel('Actual label')\n",
        "plt.xlabel('Predicted label')"
      ],
      "metadata": {
        "colab": {
          "base_uri": "https://localhost:8080/",
          "height": 569
        },
        "collapsed": true,
        "id": "VNuOzCbOMYKp",
        "outputId": "2d611e97-e572-4b15-8d54-8a49a95dd2e6"
      },
      "execution_count": null,
      "outputs": [
        {
          "output_type": "execute_result",
          "data": {
            "text/plain": [
              "Text(0.5, 427.9555555555555, 'Predicted label')"
            ]
          },
          "metadata": {},
          "execution_count": 27
        },
        {
          "output_type": "display_data",
          "data": {
            "text/plain": [
              "<Figure size 640x480 with 2 Axes>"
            ],
            "image/png": "[encoded data removed]"
          },
          "metadata": {}
        }
      ]
    }
  ]
}